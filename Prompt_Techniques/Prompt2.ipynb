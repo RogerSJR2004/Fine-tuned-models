{
  "cells": [
    {
      "cell_type": "markdown",
      "metadata": {
        "id": "pYULXCzcwgfs"
      },
      "source": [
        "# Prompt Development"
      ]
    },
    {
      "cell_type": "code",
      "execution_count": null,
      "metadata": {
        "colab": {
          "base_uri": "https://localhost:8080/"
        },
        "id": "NnzUxu_-8YXJ",
        "outputId": "c02473e2-964f-447f-a500-cf150b2cc3bd"
      },
      "outputs": [
        {
          "name": "stdout",
          "output_type": "stream",
          "text": [
            "Collecting groq\n",
            "  Downloading groq-0.30.0-py3-none-any.whl.metadata (16 kB)\n",
            "Requirement already satisfied: anyio<5,>=3.5.0 in /usr/local/lib/python3.11/dist-packages (from groq) (4.9.0)\n",
            "Requirement already satisfied: distro<2,>=1.7.0 in /usr/local/lib/python3.11/dist-packages (from groq) (1.9.0)\n",
            "Requirement already satisfied: httpx<1,>=0.23.0 in /usr/local/lib/python3.11/dist-packages (from groq) (0.28.1)\n",
            "Requirement already satisfied: pydantic<3,>=1.9.0 in /usr/local/lib/python3.11/dist-packages (from groq) (2.11.7)\n",
            "Requirement already satisfied: sniffio in /usr/local/lib/python3.11/dist-packages (from groq) (1.3.1)\n",
            "Requirement already satisfied: typing-extensions<5,>=4.10 in /usr/local/lib/python3.11/dist-packages (from groq) (4.14.1)\n",
            "Requirement already satisfied: idna>=2.8 in /usr/local/lib/python3.11/dist-packages (from anyio<5,>=3.5.0->groq) (3.10)\n",
            "Requirement already satisfied: certifi in /usr/local/lib/python3.11/dist-packages (from httpx<1,>=0.23.0->groq) (2025.7.14)\n",
            "Requirement already satisfied: httpcore==1.* in /usr/local/lib/python3.11/dist-packages (from httpx<1,>=0.23.0->groq) (1.0.9)\n",
            "Requirement already satisfied: h11>=0.16 in /usr/local/lib/python3.11/dist-packages (from httpcore==1.*->httpx<1,>=0.23.0->groq) (0.16.0)\n",
            "Requirement already satisfied: annotated-types>=0.6.0 in /usr/local/lib/python3.11/dist-packages (from pydantic<3,>=1.9.0->groq) (0.7.0)\n",
            "Requirement already satisfied: pydantic-core==2.33.2 in /usr/local/lib/python3.11/dist-packages (from pydantic<3,>=1.9.0->groq) (2.33.2)\n",
            "Requirement already satisfied: typing-inspection>=0.4.0 in /usr/local/lib/python3.11/dist-packages (from pydantic<3,>=1.9.0->groq) (0.4.1)\n",
            "Downloading groq-0.30.0-py3-none-any.whl (131 kB)\n",
            "\u001b[?25l   \u001b[90m━━━━━━━━━━━━━━━━━━━━━━━━━━━━━━━━━━━━━━━━\u001b[0m \u001b[32m0.0/131.1 kB\u001b[0m \u001b[31m?\u001b[0m eta \u001b[36m-:--:--\u001b[0m\r\u001b[2K   \u001b[90m━━━━━━━━━━━━━━━━━━━━━━━━━━━━━━━━━━━━━━━━\u001b[0m \u001b[32m131.1/131.1 kB\u001b[0m \u001b[31m5.3 MB/s\u001b[0m eta \u001b[36m0:00:00\u001b[0m\n",
            "\u001b[?25hInstalling collected packages: groq\n",
            "Successfully installed groq-0.30.0\n"
          ]
        }
      ],
      "source": [
        "!pip install groq"
      ]
    },
    {
      "cell_type": "code",
      "execution_count": null,
      "metadata": {
        "id": "QTNHnUT0KJJ7"
      },
      "outputs": [],
      "source": [
        "import os\n",
        "\n",
        "from groq import Groq\n",
        "client = Groq(\n",
        "    api_key=\"\",\n",
        ")"
      ]
    },
    {
      "cell_type": "code",
      "execution_count": null,
      "metadata": {
        "id": "hz9cnD1LwmNO"
      },
      "outputs": [],
      "source": [
        "def get_completion(prompt, model=\"gemma2-9b-it\"):\n",
        "    chat_completion = client.chat.completions.create(\n",
        "        messages=[\n",
        "            {\n",
        "                \"role\": \"user\",\n",
        "                \"content\": prompt,\n",
        "            }\n",
        "        ],\n",
        "        model=model,\n",
        "        temperature=0,\n",
        "    )\n",
        "    return chat_completion.choices[0].message.content"
      ]
    },
    {
      "cell_type": "markdown",
      "metadata": {
        "id": "0qYcIDw9wpHU"
      },
      "source": [
        "# Generate a marketing product description from a product fact sheet"
      ]
    },
    {
      "cell_type": "code",
      "execution_count": null,
      "metadata": {
        "id": "rtd9TvzOwp4j"
      },
      "outputs": [],
      "source": [
        "fact_sheet_chair = \"\"\"\n",
        "OVERVIEW\n",
        "- Part of a beautiful family of mid-century inspired office furniture,\n",
        "including filing cabinets, desks, bookcases, meeting tables, and more.\n",
        "- Several options of shell color and base finishes.\n",
        "- Available with plastic back and front upholstery (SWC-100)\n",
        "or full upholstery (SWC-110) in 10 fabric and 6 leather options.\n",
        "- Base finish options are: stainless steel, matte black,\n",
        "gloss white, or chrome.\n",
        "- Chair is available with or without armrests.\n",
        "- Suitable for home or business settings.\n",
        "- Qualified for contract use.\n",
        "\n",
        "CONSTRUCTION\n",
        "- 5-wheel plastic coated aluminum base.\n",
        "- Pneumatic chair adjust for easy raise/lower action.\n",
        "\n",
        "DIMENSIONS\n",
        "- WIDTH 53 CM | 20.87”\n",
        "- DEPTH 51 CM | 20.08”\n",
        "- HEIGHT 80 CM | 31.50”\n",
        "- SEAT HEIGHT 44 CM | 17.32”\n",
        "- SEAT DEPTH 41 CM | 16.14”\n",
        "\n",
        "OPTIONS\n",
        "- Soft or hard-floor caster options.\n",
        "- Two choices of seat foam densities:\n",
        " medium (1.8 lb/ft3) or high (2.8 lb/ft3)\n",
        "- Armless or 8 position PU armrests\n",
        "\n",
        "MATERIALS\n",
        "SHELL BASE GLIDER\n",
        "- Cast Aluminum with modified nylon PA6/PA66 coating.\n",
        "- Shell thickness: 10 mm.\n",
        "SEAT\n",
        "- HD36 foam\n",
        "\n",
        "COUNTRY OF ORIGIN\n",
        "- Italy\n",
        "\"\"\""
      ]
    },
    {
      "cell_type": "code",
      "execution_count": null,
      "metadata": {
        "colab": {
          "base_uri": "https://localhost:8080/"
        },
        "id": "H7L5TKWFw1Vp",
        "outputId": "bd989c7e-33d9-4c3e-d719-45881723cb63"
      },
      "outputs": [
        {
          "name": "stdout",
          "output_type": "stream",
          "text": [
            "##  Elevate Your Workspace with Mid-Century Modern Style\n",
            "\n",
            "Introducing our stunning **SWC Chair**, a timeless piece designed to complement any modern office or home.  Part of a beautiful family of mid-century inspired furniture, this chair seamlessly blends classic design with contemporary comfort. \n",
            "\n",
            "**Choose Your Perfect Look:**\n",
            "\n",
            "* **Shell Color & Base Finishes:**  Select from a range of sophisticated shell colors and base finishes to match your unique style.  Options include stainless steel, matte black, gloss white, and chrome.\n",
            "* **Upholstery Options:**  Customize your chair with either plastic back and front upholstery (SWC-100) or luxurious full upholstery (SWC-110). Choose from 10 stylish fabrics or 6 premium leather options to create a truly personalized look.\n",
            "* **Armrests:**  Opt for the sleek, armless design or add comfortable PU armrests with 8 adjustable positions for optimal support.\n",
            "\n",
            "**Built for Comfort and Durability:**\n",
            "\n",
            "* **5-Wheel Base:**  The sturdy 5-wheel plastic coated aluminum base ensures smooth and effortless movement.\n",
            "* **Pneumatic Adjust:**  Easily raise or lower the chair height to find your perfect ergonomic position.\n",
            "* **High-Quality Materials:**  Crafted with a durable cast aluminum shell and high-density foam seat, this chair is built to last.\n",
            "\n",
            "**Tailored to Your Needs:**\n",
            "\n",
            "* **Soft or Hard-Floor Casters:**  Choose the perfect caster type for your flooring surface.\n",
            "* **Seat Foam Density:**  Select from medium (1.8 lb/ft3) or high (2.8 lb/ft3) density foam for customized comfort.\n",
            "\n",
            "**Made in Italy:**\n",
            "\n",
            "Experience the quality and craftsmanship of Italian design with our SWC Chair.\n",
            "\n",
            "**Perfect for:**\n",
            "\n",
            "* Home offices\n",
            "* Executive suites\n",
            "* Conference rooms\n",
            "* Waiting areas\n",
            "* And more!\n",
            "\n",
            "**Qualified for contract use.**\n",
            "\n",
            "\n",
            "\n",
            "\n"
          ]
        }
      ],
      "source": [
        "prompt = f\"\"\"\n",
        "Your task is to help a marketing team create a\n",
        "description for a retail website of a product based\n",
        "on a technical fact sheet.\n",
        "\n",
        "Write a product description based on the information\n",
        "provided in the technical specifications delimited by\n",
        "triple backticks.\n",
        "\n",
        "Technical specifications: ```{fact_sheet_chair}```\n",
        "\"\"\"\n",
        "response = get_completion(prompt)\n",
        "print(response)\n"
      ]
    },
    {
      "cell_type": "markdown",
      "metadata": {
        "id": "lZSO88Xrw6iS"
      },
      "source": [
        "# The text is too long"
      ]
    },
    {
      "cell_type": "code",
      "execution_count": null,
      "metadata": {
        "colab": {
          "base_uri": "https://localhost:8080/"
        },
        "id": "BnERAHAFw82w",
        "outputId": "ad12c43b-f478-4710-b85f-d4f40b8bde25"
      },
      "outputs": [
        {
          "name": "stdout",
          "output_type": "stream",
          "text": [
            "This stylish mid-century inspired office chair offers comfort and versatility.  Choose from various shell colors, base finishes, and upholstery options, including fabric and leather.  Features include a pneumatic height adjustment, 5-wheel base, and optional armrests.  Made in Italy. \n",
            "\n",
            "\n",
            "\n"
          ]
        }
      ],
      "source": [
        "# Limit the number of words/sentences/characters.\n",
        "prompt = f\"\"\"\n",
        "Your task is to help a marketing team create a\n",
        "description for a retail website of a product based\n",
        "on a technical fact sheet.\n",
        "\n",
        "Write a product description based on the information\n",
        "provided in the technical specifications delimited by\n",
        "triple backticks.\n",
        "\n",
        "Use at most 50 words.\n",
        "\n",
        "Technical specifications: ```{fact_sheet_chair}```\n",
        "\"\"\"\n",
        "response = get_completion(prompt)\n",
        "print(response)"
      ]
    },
    {
      "cell_type": "code",
      "execution_count": null,
      "metadata": {
        "colab": {
          "base_uri": "https://localhost:8080/"
        },
        "id": "6RdYS3WQxCjJ",
        "outputId": "2aeb67f2-32dc-411e-e3a9-9772c9b38fe2"
      },
      "outputs": [
        {
          "data": {
            "text/plain": [
              "38"
            ]
          },
          "execution_count": 7,
          "metadata": {},
          "output_type": "execute_result"
        }
      ],
      "source": [
        "len(response.split())"
      ]
    },
    {
      "cell_type": "markdown",
      "metadata": {
        "id": "MVsXuBM29A4l"
      },
      "source": [
        "# Text focuses on the wrong details"
      ]
    },
    {
      "cell_type": "code",
      "execution_count": null,
      "metadata": {
        "colab": {
          "base_uri": "https://localhost:8080/"
        },
        "id": "DQBrwN_N9Bq8",
        "outputId": "f4b869c7-8baf-490a-b399-01cb997f387f"
      },
      "outputs": [
        {
          "name": "stdout",
          "output_type": "stream",
          "text": [
            "This Italian-made mid-century inspired chair features a cast aluminum shell with a 10mm thickness, coated in modified nylon PA6/PA66.  The seat is constructed with HD36 foam and rests on a 5-wheel plastic coated aluminum base.  \n",
            "\n"
          ]
        }
      ],
      "source": [
        "# Ask it to focus on the aspects that are relevant to the intended audience.\n",
        "\n",
        "prompt = f\"\"\"\n",
        "Your task is to help a marketing team create a\n",
        "description for a retail website of a product based\n",
        "on a technical fact sheet.\n",
        "\n",
        "Write a product description based on the information\n",
        "provided in the technical specifications delimited by\n",
        "triple backticks.\n",
        "\n",
        "The description is intended for furniture retailers,\n",
        "so should be technical in nature and focus on the\n",
        "materials the product is constructed from.\n",
        "\n",
        "Use at most 50 words.\n",
        "\n",
        "Technical specifications: ```{fact_sheet_chair}```\n",
        "\"\"\"\n",
        "response = get_completion(prompt)\n",
        "print(response)"
      ]
    },
    {
      "cell_type": "code",
      "execution_count": null,
      "metadata": {
        "colab": {
          "base_uri": "https://localhost:8080/"
        },
        "id": "WeJKEjUo9HQi",
        "outputId": "c20f7e10-a28b-4672-adda-5015d6bad9b6"
      },
      "outputs": [
        {
          "name": "stdout",
          "output_type": "stream",
          "text": [
            "This mid-century inspired office chair features a cast aluminum shell with a modified nylon PA6/PA66 coating, offering durability and a sleek aesthetic. The 10mm thick shell provides structural integrity, while the HD36 foam seat ensures comfort.  The chair is supported by a 5-wheel plastic coated aluminum base with pneumatic adjustment. \n",
            "\n",
            "Product IDs: SWC-100, SWC-110 \n",
            "\n",
            "\n",
            "\n"
          ]
        }
      ],
      "source": [
        "prompt = f\"\"\"\n",
        "Your task is to help a marketing team create a\n",
        "description for a retail website of a product based\n",
        "on a technical fact sheet.\n",
        "\n",
        "Write a product description based on the information\n",
        "provided in the technical specifications delimited by\n",
        "triple backticks.\n",
        "\n",
        "The description is intended for furniture retailers,\n",
        "so should be technical in nature and focus on the\n",
        "materials the product is constructed from.\n",
        "\n",
        "At the end of the description, include every 7-character\n",
        "Product ID in the technical specification.\n",
        "\n",
        "Use at most 50 words.\n",
        "\n",
        "Technical specifications: ```{fact_sheet_chair}```\n",
        "\"\"\"\n",
        "response = get_completion(prompt)\n",
        "print(response)"
      ]
    },
    {
      "cell_type": "markdown",
      "metadata": {
        "id": "echcwdcN9KZB"
      },
      "source": [
        "# Description needs a table of dimensions"
      ]
    },
    {
      "cell_type": "code",
      "execution_count": null,
      "metadata": {
        "colab": {
          "base_uri": "https://localhost:8080/"
        },
        "id": "WpqcgY969LMa",
        "outputId": "826ba743-08aa-436f-b90a-bc607dcb3130"
      },
      "outputs": [
        {
          "name": "stdout",
          "output_type": "stream",
          "text": [
            "<div>\n",
            "This mid-century inspired office chair is constructed from durable materials for both style and functionality. The chair features a 5-wheel plastic coated aluminum base with a pneumatic adjustment mechanism for easy height adjustment. The shell is crafted from cast aluminum with a modified nylon PA6/PA66 coating, ensuring a robust and long-lasting construction. The shell boasts a thickness of 10 mm, providing added strength and stability. The seat is upholstered with HD36 foam, offering comfortable support for extended periods.  \n",
            "\n",
            "Available in a variety of shell colors and base finishes, including stainless steel, matte black, gloss white, or chrome, this chair can be customized to complement any office decor.  \n",
            "\n",
            "Product IDs: SWC-100, SWC-110\n",
            "\n",
            "</div>\n",
            "\n",
            "<h3>Product Dimensions</h3>\n",
            "<table>\n",
            "  <tr>\n",
            "    <td>WIDTH</td>\n",
            "    <td>20.87</td>\n",
            "  </tr>\n",
            "  <tr>\n",
            "    <td>DEPTH</td>\n",
            "    <td>20.08</td>\n",
            "  </tr>\n",
            "  <tr>\n",
            "    <td>HEIGHT</td>\n",
            "    <td>31.50</td>\n",
            "  </tr>\n",
            "  <tr>\n",
            "    <td>SEAT HEIGHT</td>\n",
            "    <td>17.32</td>\n",
            "  </tr>\n",
            "  <tr>\n",
            "    <td>SEAT DEPTH</td>\n",
            "    <td>16.14</td>\n",
            "  </tr>\n",
            "</table> \n",
            "\n"
          ]
        }
      ],
      "source": [
        "# Ask it to extract information and organize it in a table\n",
        "\n",
        "prompt = f\"\"\"\n",
        "Your task is to help a marketing team create a\n",
        "description for a retail website of a product based\n",
        "on a technical fact sheet.\n",
        "\n",
        "Write a product description based on the information\n",
        "provided in the technical specifications delimited by\n",
        "triple backticks.\n",
        "\n",
        "The description is intended for furniture retailers,\n",
        "so should be technical in nature and focus on the\n",
        "materials the product is constructed from.\n",
        "\n",
        "At the end of the description, include every 7-character\n",
        "Product ID in the technical specification.\n",
        "\n",
        "After the description, include a table that gives the\n",
        "product's dimensions. The table should have two columns.\n",
        "In the first column include the name of the dimension.\n",
        "In the second column include the measurements in inches only.\n",
        "\n",
        "Give the table the title 'Product Dimensions'.\n",
        "\n",
        "Format everything as HTML that can be used in a website.\n",
        "Place the description in a <div> element.\n",
        "\n",
        "Technical specifications: ```{fact_sheet_chair}```\n",
        "\"\"\"\n",
        "\n",
        "response = get_completion(prompt)\n",
        "print(response)"
      ]
    },
    {
      "cell_type": "markdown",
      "metadata": {
        "id": "57x7v6UN9QgJ"
      },
      "source": [
        "# Load Python libraries to view HTML"
      ]
    },
    {
      "cell_type": "code",
      "execution_count": null,
      "metadata": {
        "id": "RsOeGpmh9RHI"
      },
      "outputs": [],
      "source": [
        "from IPython.display import display, HTML"
      ]
    },
    {
      "cell_type": "code",
      "execution_count": null,
      "metadata": {
        "colab": {
          "base_uri": "https://localhost:8080/",
          "height": 233
        },
        "id": "aC5NPPtN9TFL",
        "outputId": "73a2adcb-257d-43b5-886d-57a7e3163eae"
      },
      "outputs": [
        {
          "data": {
            "text/html": [
              "<div>\n",
              "This mid-century inspired office chair is constructed from durable materials for both style and functionality. The chair features a 5-wheel plastic coated aluminum base with a pneumatic adjustment mechanism for easy height adjustment. The shell is crafted from cast aluminum with a modified nylon PA6/PA66 coating, ensuring a robust and long-lasting construction. The shell boasts a thickness of 10 mm, providing added strength and stability. The seat is upholstered with HD36 foam, offering comfortable support for extended periods.  \n",
              "\n",
              "Available in a variety of shell colors and base finishes, including stainless steel, matte black, gloss white, or chrome, this chair can be customized to complement any office decor.  \n",
              "\n",
              "Product IDs: SWC-100, SWC-110\n",
              "\n",
              "</div>\n",
              "\n",
              "<h3>Product Dimensions</h3>\n",
              "<table>\n",
              "  <tr>\n",
              "    <td>WIDTH</td>\n",
              "    <td>20.87</td>\n",
              "  </tr>\n",
              "  <tr>\n",
              "    <td>DEPTH</td>\n",
              "    <td>20.08</td>\n",
              "  </tr>\n",
              "  <tr>\n",
              "    <td>HEIGHT</td>\n",
              "    <td>31.50</td>\n",
              "  </tr>\n",
              "  <tr>\n",
              "    <td>SEAT HEIGHT</td>\n",
              "    <td>17.32</td>\n",
              "  </tr>\n",
              "  <tr>\n",
              "    <td>SEAT DEPTH</td>\n",
              "    <td>16.14</td>\n",
              "  </tr>\n",
              "</table> \n"
            ],
            "text/plain": [
              "<IPython.core.display.HTML object>"
            ]
          },
          "metadata": {},
          "output_type": "display_data"
        }
      ],
      "source": [
        "display(HTML(response))"
      ]
    }
  ],
  "metadata": {
    "colab": {
      "provenance": []
    },
    "kernelspec": {
      "display_name": "Python 3",
      "name": "python3"
    },
    "language_info": {
      "name": "python"
    }
  },
  "nbformat": 4,
  "nbformat_minor": 0
}
