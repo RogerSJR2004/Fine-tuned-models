{
  "cells": [
    {
      "cell_type": "markdown",
      "metadata": {
        "id": "GE5mF7gjGAby"
      },
      "source": [
        "#Guidelines for Prompting"
      ]
    },
    {
      "cell_type": "code",
      "execution_count": null,
      "metadata": {
        "colab": {
          "base_uri": "https://localhost:8080/"
        },
        "id": "ozSOFAvrH_Zm",
        "outputId": "06c9086b-83cb-4422-bc4b-f386b24df4d8"
      },
      "outputs": [
        {
          "name": "stdout",
          "output_type": "stream",
          "text": [
            "Collecting langchain-groq\n",
            "  Downloading langchain_groq-0.3.6-py3-none-any.whl.metadata (2.6 kB)\n",
            "Requirement already satisfied: langchain-core<1.0.0,>=0.3.68 in /usr/local/lib/python3.11/dist-packages (from langchain-groq) (0.3.68)\n",
            "Collecting groq<1,>=0.29.0 (from langchain-groq)\n",
            "  Downloading groq-0.30.0-py3-none-any.whl.metadata (16 kB)\n",
            "Requirement already satisfied: anyio<5,>=3.5.0 in /usr/local/lib/python3.11/dist-packages (from groq<1,>=0.29.0->langchain-groq) (4.9.0)\n",
            "Requirement already satisfied: distro<2,>=1.7.0 in /usr/local/lib/python3.11/dist-packages (from groq<1,>=0.29.0->langchain-groq) (1.9.0)\n",
            "Requirement already satisfied: httpx<1,>=0.23.0 in /usr/local/lib/python3.11/dist-packages (from groq<1,>=0.29.0->langchain-groq) (0.28.1)\n",
            "Requirement already satisfied: pydantic<3,>=1.9.0 in /usr/local/lib/python3.11/dist-packages (from groq<1,>=0.29.0->langchain-groq) (2.11.7)\n",
            "Requirement already satisfied: sniffio in /usr/local/lib/python3.11/dist-packages (from groq<1,>=0.29.0->langchain-groq) (1.3.1)\n",
            "Requirement already satisfied: typing-extensions<5,>=4.10 in /usr/local/lib/python3.11/dist-packages (from groq<1,>=0.29.0->langchain-groq) (4.14.1)\n",
            "Requirement already satisfied: langsmith>=0.3.45 in /usr/local/lib/python3.11/dist-packages (from langchain-core<1.0.0,>=0.3.68->langchain-groq) (0.4.4)\n",
            "Requirement already satisfied: tenacity!=8.4.0,<10.0.0,>=8.1.0 in /usr/local/lib/python3.11/dist-packages (from langchain-core<1.0.0,>=0.3.68->langchain-groq) (8.5.0)\n",
            "Requirement already satisfied: jsonpatch<2.0,>=1.33 in /usr/local/lib/python3.11/dist-packages (from langchain-core<1.0.0,>=0.3.68->langchain-groq) (1.33)\n",
            "Requirement already satisfied: PyYAML>=5.3 in /usr/local/lib/python3.11/dist-packages (from langchain-core<1.0.0,>=0.3.68->langchain-groq) (6.0.2)\n",
            "Requirement already satisfied: packaging<25,>=23.2 in /usr/local/lib/python3.11/dist-packages (from langchain-core<1.0.0,>=0.3.68->langchain-groq) (24.2)\n",
            "Requirement already satisfied: idna>=2.8 in /usr/local/lib/python3.11/dist-packages (from anyio<5,>=3.5.0->groq<1,>=0.29.0->langchain-groq) (3.10)\n",
            "Requirement already satisfied: certifi in /usr/local/lib/python3.11/dist-packages (from httpx<1,>=0.23.0->groq<1,>=0.29.0->langchain-groq) (2025.7.9)\n",
            "Requirement already satisfied: httpcore==1.* in /usr/local/lib/python3.11/dist-packages (from httpx<1,>=0.23.0->groq<1,>=0.29.0->langchain-groq) (1.0.9)\n",
            "Requirement already satisfied: h11>=0.16 in /usr/local/lib/python3.11/dist-packages (from httpcore==1.*->httpx<1,>=0.23.0->groq<1,>=0.29.0->langchain-groq) (0.16.0)\n",
            "Requirement already satisfied: jsonpointer>=1.9 in /usr/local/lib/python3.11/dist-packages (from jsonpatch<2.0,>=1.33->langchain-core<1.0.0,>=0.3.68->langchain-groq) (3.0.0)\n",
            "Requirement already satisfied: orjson<4.0.0,>=3.9.14 in /usr/local/lib/python3.11/dist-packages (from langsmith>=0.3.45->langchain-core<1.0.0,>=0.3.68->langchain-groq) (3.10.18)\n",
            "Requirement already satisfied: requests<3,>=2 in /usr/local/lib/python3.11/dist-packages (from langsmith>=0.3.45->langchain-core<1.0.0,>=0.3.68->langchain-groq) (2.32.3)\n",
            "Requirement already satisfied: requests-toolbelt<2.0.0,>=1.0.0 in /usr/local/lib/python3.11/dist-packages (from langsmith>=0.3.45->langchain-core<1.0.0,>=0.3.68->langchain-groq) (1.0.0)\n",
            "Requirement already satisfied: zstandard<0.24.0,>=0.23.0 in /usr/local/lib/python3.11/dist-packages (from langsmith>=0.3.45->langchain-core<1.0.0,>=0.3.68->langchain-groq) (0.23.0)\n",
            "Requirement already satisfied: annotated-types>=0.6.0 in /usr/local/lib/python3.11/dist-packages (from pydantic<3,>=1.9.0->groq<1,>=0.29.0->langchain-groq) (0.7.0)\n",
            "Requirement already satisfied: pydantic-core==2.33.2 in /usr/local/lib/python3.11/dist-packages (from pydantic<3,>=1.9.0->groq<1,>=0.29.0->langchain-groq) (2.33.2)\n",
            "Requirement already satisfied: typing-inspection>=0.4.0 in /usr/local/lib/python3.11/dist-packages (from pydantic<3,>=1.9.0->groq<1,>=0.29.0->langchain-groq) (0.4.1)\n",
            "Requirement already satisfied: charset-normalizer<4,>=2 in /usr/local/lib/python3.11/dist-packages (from requests<3,>=2->langsmith>=0.3.45->langchain-core<1.0.0,>=0.3.68->langchain-groq) (3.4.2)\n",
            "Requirement already satisfied: urllib3<3,>=1.21.1 in /usr/local/lib/python3.11/dist-packages (from requests<3,>=2->langsmith>=0.3.45->langchain-core<1.0.0,>=0.3.68->langchain-groq) (2.4.0)\n",
            "Downloading langchain_groq-0.3.6-py3-none-any.whl (16 kB)\n",
            "Downloading groq-0.30.0-py3-none-any.whl (131 kB)\n",
            "\u001b[2K   \u001b[90m━━━━━━━━━━━━━━━━━━━━━━━━━━━━━━━━━━━━━━━━\u001b[0m \u001b[32m131.1/131.1 kB\u001b[0m \u001b[31m5.9 MB/s\u001b[0m eta \u001b[36m0:00:00\u001b[0m\n",
            "\u001b[?25hInstalling collected packages: groq, langchain-groq\n",
            "Successfully installed groq-0.30.0 langchain-groq-0.3.6\n"
          ]
        }
      ],
      "source": [
        "!pip install langchain-groq\n"
      ]
    },
    {
      "cell_type": "code",
      "execution_count": null,
      "metadata": {
        "id": "BRQekvXIJPMe"
      },
      "outputs": [],
      "source": [
        "import os\n",
        "os.environ[\"GROQ_API_KEY\"] = \"\"\n"
      ]
    },
    {
      "cell_type": "code",
      "execution_count": null,
      "metadata": {
        "id": "41eYJVeWLc4z"
      },
      "outputs": [],
      "source": [
        "from langchain_groq import ChatGroq\n",
        "from langchain_core.messages import HumanMessage\n",
        "import os\n",
        "\n",
        "# Load your GROQ_API_KEY\n",
        "groq_api_key = os.environ.get(\"GROQ_API_KEY\")\n",
        "\n",
        "# Load LLaMA model via Groq\n",
        "llm = ChatGroq(model=\"llama3-8b-8192\", api_key=groq_api_key)"
      ]
    },
    {
      "cell_type": "code",
      "execution_count": null,
      "metadata": {
        "id": "y5baZY7vGIjS"
      },
      "outputs": [],
      "source": [
        "def get_completion(prompt):\n",
        "    messages = [HumanMessage(content=prompt)]\n",
        "    response = llm.invoke(messages)\n",
        "    return response.content\n"
      ]
    },
    {
      "cell_type": "code",
      "execution_count": null,
      "metadata": {
        "colab": {
          "base_uri": "https://localhost:8080/"
        },
        "id": "SyDUC-ZoGqIm",
        "outputId": "37090e65-cf7c-4115-882a-04c12b95574b"
      },
      "outputs": [
        {
          "name": "stdout",
          "output_type": "stream",
          "text": [
            "Assistant: LLaMA3 is a type of artificial intelligence (AI) model that's designed to understand and generate human-like text. Here's a simplified explanation:\n",
            "\n",
            "**What is LLaMA3?**\n",
            "\n",
            "LLaMA3 is a large language model, which means it's a computer program that can process and generate human language (text). It's a type of AI that's trained on a massive amount of text data to learn patterns, relationships, and meanings in language.\n",
            "\n",
            "**How does it work?**\n",
            "\n",
            "LLaMA3 works by:\n",
            "\n",
            "1. **Reading**: It reads a huge amount of text data from the internet, books, and other sources.\n",
            "2. **Learning**: It analyzes the text data to learn patterns, relationships, and meanings in language. This is called \"training\".\n",
            "3. **Generating**: It uses this knowledge to generate new text based on a prompt or input.\n",
            "\n",
            "**What can LLaMA3 do?**\n",
            "\n",
            "LLaMA3 can:\n",
            "\n",
            "* Answer questions\n",
            "* Summarize long pieces of text\n",
            "* Generate text based on a prompt (e.g., write a short story)\n",
            "* Translate text from one language to another\n",
            "* Even create dialogues or conversations!\n",
            "\n",
            "**Is LLaMA3 intelligent?**\n",
            "\n",
            "While LLaMA3 is incredibly powerful and can process language in a way that's similar to human understanding, it's not truly \"intelligent\" in the way humans are. It's still a computer program that follows rules and patterns, rather than having consciousness or self-awareness.\n",
            "\n",
            "I hope this helps! Let me know if you have any other questions.\n"
          ]
        }
      ],
      "source": [
        "reply = get_completion(\"Explain LLaMA3 in simple words.\")\n",
        "print(\"Assistant:\", reply)\n"
      ]
    },
    {
      "cell_type": "markdown",
      "metadata": {
        "id": "C9W-xbhTGu5v"
      },
      "source": [
        "#Prompting Principles\n",
        "Principle 1: Write clear and specific instructions\n",
        "\n",
        "Principle 2: Give the model time to “think”\n",
        "\n",
        "Tactic 1: Use delimiters to clearly indicate distinct parts of the input\n",
        "Delimiters can be anything like: ```, \"\"\", < >, <tag> </tag>, :"
      ]
    },
    {
      "cell_type": "markdown",
      "metadata": {
        "id": "dFavueo_H4jg"
      },
      "source": [
        "we are using a backslash \\ to make the text fit on the screen"
      ]
    },
    {
      "cell_type": "code",
      "execution_count": null,
      "metadata": {
        "colab": {
          "base_uri": "https://localhost:8080/"
        },
        "id": "4-Fj5KxfGsqW",
        "outputId": "a9336d4f-30ef-4227-a69c-697903cc4453"
      },
      "outputs": [
        {
          "name": "stdout",
          "output_type": "stream",
          "text": [
            "Here is a summary of the text in a single sentence:\n",
            "\n",
            "To get accurate and relevant responses from a model, provide clear and specific instructions, even if they are longer in length, to guide the model towards the desired output.\n"
          ]
        }
      ],
      "source": [
        "text = f\"\"\"\n",
        "You should express what you want a model to do by \\\n",
        "providing instructions that are as clear and \\\n",
        "specific as you can possibly make them. \\\n",
        "This will guide the model towards the desired output, \\\n",
        "and reduce the chances of receiving irrelevant \\\n",
        "or incorrect responses. Don't confuse writing a \\\n",
        "clear prompt with writing a short prompt. \\\n",
        "In many cases, longer prompts provide more clarity \\\n",
        "and context for the model, which can lead to \\\n",
        "more detailed and relevant outputs.\n",
        "\"\"\"\n",
        "prompt = f\"\"\"\n",
        "Summarize the text delimited by triple backticks \\\n",
        "into a single sentence.\n",
        "```{text}```\n",
        "\"\"\"\n",
        "response = get_completion(prompt)\n",
        "print(response)"
      ]
    },
    {
      "cell_type": "markdown",
      "metadata": {
        "id": "NLtatXeiHIyM"
      },
      "source": [
        "Tactic 2: Ask for a structured output"
      ]
    },
    {
      "cell_type": "code",
      "execution_count": null,
      "metadata": {
        "colab": {
          "base_uri": "https://localhost:8080/"
        },
        "id": "SzeV4kkWG1YG",
        "outputId": "92e22664-a5a8-4ae4-93fb-5fc8bebc1d47"
      },
      "outputs": [
        {
          "name": "stdout",
          "output_type": "stream",
          "text": [
            "Here are three made-up book titles in JSON format:\n",
            "\n",
            "```\n",
            "[\n",
            "  {\n",
            "    \"book_id\": \"1\",\n",
            "    \"title\": \"The Memory Weaver\",\n",
            "    \"author\": \"Ava Lyra\",\n",
            "    \"genre\": \"Fantasy\"\n",
            "  },\n",
            "  {\n",
            "    \"book_id\": \"2\",\n",
            "    \"title\": \"The Last Hope of Elyria\",\n",
            "    \"author\": \"Kaelin Darko\",\n",
            "    \"genre\": \"Science Fiction\"\n",
            "  },\n",
            "  {\n",
            "    \"book_id\": \"3\",\n",
            "    \"title\": \"The Whispering Walls of Winterwood\",\n",
            "    \"author\": \"Evelyn Ravenwood\",\n",
            "    \"genre\": \"Mystery\"\n",
            "  }\n",
            "]\n",
            "```\n",
            "\n",
            "Let me know if you'd like me to generate more!\n"
          ]
        }
      ],
      "source": [
        "# To get structured Output\n",
        "prompt = f\"\"\"\n",
        "Generate a list of three made-up book titles along \\\n",
        "with their authors and genres.\n",
        "Provide them in JSON format with the following keys:\n",
        "book_id, title, author, genre.\n",
        "\"\"\"\n",
        "response = get_completion(prompt)\n",
        "print(response)"
      ]
    },
    {
      "cell_type": "markdown",
      "metadata": {
        "id": "tUXtjCToG5ok"
      },
      "source": [
        " Tactic 3: Ask the model to check whether conditions are satisfied"
      ]
    },
    {
      "cell_type": "code",
      "execution_count": null,
      "metadata": {
        "colab": {
          "base_uri": "https://localhost:8080/"
        },
        "id": "3bQbd-tsG6IM",
        "outputId": "b1546f13-72a8-4c03-bcf8-a85cda03a356"
      },
      "outputs": [
        {
          "name": "stdout",
          "output_type": "stream",
          "text": [
            "Completion for Text 1:\n",
            "Here are the instructions rewritten in the desired format:\n",
            "\n",
            "Step 1 - Get some water boiling.\n",
            "Step 2 - While the water is boiling, grab a cup and put a tea bag in it.\n",
            "Step 3 - Once the water is hot enough, pour it over the tea bag.\n",
            "Step 4 - Let the tea steep for a bit.\n",
            "Step 5 - After a few minutes, take out the tea bag.\n",
            "Step 6 - (Optional) Add sugar or milk to taste.\n",
            "Step 7 - Enjoy your delicious cup of tea!\n"
          ]
        }
      ],
      "source": [
        "text_1 = f\"\"\"\n",
        "Making a cup of tea is easy! First, you need to get some \\\n",
        "water boiling. While that's happening, \\\n",
        "grab a cup and put a tea bag in it. Once the water is \\\n",
        "hot enough, just pour it over the tea bag. \\\n",
        "Let it sit for a bit so the tea can steep. After a \\\n",
        "few minutes, take out the tea bag. If you \\\n",
        "like, you can add some sugar or milk to taste. \\\n",
        "And that's it! You've got yourself a delicious \\\n",
        "cup of tea to enjoy.\n",
        "\"\"\"\n",
        "prompt = f\"\"\"\n",
        "You will be provided with text delimited by triple quotes.\n",
        "If it contains a sequence of instructions, \\\n",
        "re-write those instructions in the following format:\n",
        "\n",
        "Step 1 - ...\n",
        "Step 2 - …\n",
        "…\n",
        "Step N - …\n",
        "\n",
        "If the text does not contain a sequence of instructions, \\\n",
        "then simply write \\\"No steps provided.\\\"\n",
        "\n",
        "\\\"\\\"\\\"{text_1}\\\"\\\"\\\"\n",
        "\"\"\"\n",
        "response = get_completion(prompt)\n",
        "print(\"Completion for Text 1:\")\n",
        "print(response)"
      ]
    },
    {
      "cell_type": "code",
      "execution_count": null,
      "metadata": {
        "colab": {
          "base_uri": "https://localhost:8080/"
        },
        "id": "1-cr4h0zG_M7",
        "outputId": "b289a636-d413-4b69-8eed-a6d3ce11437c"
      },
      "outputs": [
        {
          "name": "stdout",
          "output_type": "stream",
          "text": [
            "Completion for Text 2:\n",
            "No steps provided.\n"
          ]
        }
      ],
      "source": [
        "text_2 = f\"\"\"\n",
        "The sun is shining brightly today, and the birds are \\\n",
        "singing. It's a beautiful day to go for a \\\n",
        "walk in the park. The flowers are blooming, and the \\\n",
        "trees are swaying gently in the breeze. People \\\n",
        "are out and about, enjoying the lovely weather. \\\n",
        "Some are having picnics, while others are playing \\\n",
        "games or simply relaxing on the grass. It's a \\\n",
        "perfect day to spend time outdoors and appreciate the \\\n",
        "beauty of nature.\n",
        "\"\"\"\n",
        "prompt = f\"\"\"\n",
        "You will be provided with text delimited by triple quotes.\n",
        "If it contains a sequence of instructions, \\\n",
        "re-write those instructions in the following format:\n",
        "\n",
        "Step 1 - ...\n",
        "Step 2 - …\n",
        "…\n",
        "Step N - …\n",
        "\n",
        "If the text does not contain a sequence of instructions, \\\n",
        "then simply write \\\"No steps provided.\\\"\n",
        "\n",
        "\\\"\\\"\\\"{text_2}\\\"\\\"\\\"\n",
        "\"\"\"\n",
        "response = get_completion(prompt)\n",
        "print(\"Completion for Text 2:\")\n",
        "print(response)"
      ]
    },
    {
      "cell_type": "markdown",
      "metadata": {
        "id": "AzaWZaCwHCWn"
      },
      "source": [
        "Tactic 4: \"Few-shot\" prompting"
      ]
    },
    {
      "cell_type": "code",
      "execution_count": null,
      "metadata": {
        "colab": {
          "base_uri": "https://localhost:8080/"
        },
        "id": "5yWZ1v2iHA1p",
        "outputId": "5855107c-ffb2-4e5f-c04d-96cefff51966"
      },
      "outputs": [
        {
          "name": "stdout",
          "output_type": "stream",
          "text": [
            "<grandparent>: The roots of the mighty tree dig deep into the earth, \\ \n",
            "yet they began as a tiny sprout; the mighty eagle's wings \\ \n",
            "were once fragile, beating slowly; the wisest of rivers \\ \n",
            "begins with a single, relentless drop.\n",
            "\n",
            "(Note: The style is one of poetic, metaphorical wisdom, with a focus on illustrating a concept through nature and the natural world.)\n"
          ]
        }
      ],
      "source": [
        "prompt = f\"\"\"\n",
        "Your task is to answer in a consistent style.\n",
        "\n",
        "<child>: Teach me about patience.\n",
        "\n",
        "<grandparent>: The river that carves the deepest \\\n",
        "valley flows from a modest spring; the \\\n",
        "grandest symphony originates from a single note; \\\n",
        "the most intricate tapestry begins with a solitary thread.\n",
        "\n",
        "<child>: Teach me about resilience.\n",
        "\"\"\"\n",
        "response = get_completion(prompt)\n",
        "print(response)"
      ]
    },
    {
      "cell_type": "markdown",
      "metadata": {
        "id": "-RCmQ9piJwFS"
      },
      "source": [
        "#Give the model time to “think”"
      ]
    },
    {
      "cell_type": "code",
      "execution_count": null,
      "metadata": {
        "colab": {
          "base_uri": "https://localhost:8080/"
        },
        "id": "D8HPKKajHX3u",
        "outputId": "c226cd5c-ba57-48e6-e370-ebb1d8f72883"
      },
      "outputs": [
        {
          "name": "stdout",
          "output_type": "stream",
          "text": [
            "Completion for prompt 1:\n",
            "Here are the answers:\n",
            "\n",
            "**Summary:**\n",
            "Siblings Jack and Jill go on a quest to fetch water from a hilltop well, but their journey is disrupted when they both trip and fall.\n",
            "\n",
            "**French Summary:**\n",
            "Les frères et sœurs Jack et Jill partent en quête d'eau à partir d'un puits en haut de la colline, mais leur voyage est perturbé lorsque tous deux tombent et se blessent.\n",
            "\n",
            "**List of Names:**\n",
            "1. Jack\n",
            "2. Jill\n",
            "\n",
            "**JSON Object:**\n",
            "```\n",
            "{\n",
            "  \"french_summary\": \"Les frères et sœurs Jack et Jill partent en quête d'eau à partir d'un puits en haut de la colline, mais leur voyage est perturbé lorsque tous deux tombent et se blessent.\",\n",
            "  \"num_names\": 2\n",
            "}\n",
            "```\n"
          ]
        }
      ],
      "source": [
        "#Tactic 1: Specify the steps required to complete a task\n",
        "text = f\"\"\"\n",
        "In a charming village, siblings Jack and Jill set out on \\\n",
        "a quest to fetch water from a hilltop \\\n",
        "well. As they climbed, singing joyfully, misfortune \\\n",
        "struck—Jack tripped on a stone and tumbled \\\n",
        "down the hill, with Jill following suit. \\\n",
        "Though slightly battered, the pair returned home to \\\n",
        "comforting embraces. Despite the mishap, \\\n",
        "their adventurous spirits remained undimmed, and they \\\n",
        "continued exploring with delight.\n",
        "\"\"\"\n",
        "# example 1\n",
        "prompt_1 = f\"\"\"\n",
        "Perform the following actions:\n",
        "1 - Summarize the following text delimited by triple \\\n",
        "backticks with 1 sentence.\n",
        "2 - Translate the summary into French.\n",
        "3 - List each name in the French summary.\n",
        "4 - Output a json object that contains the following \\\n",
        "keys: french_summary, num_names.\n",
        "\n",
        "Separate your answers with line breaks.\n",
        "\n",
        "Text:\n",
        "```{text}```\n",
        "\"\"\"\n",
        "response = get_completion(prompt_1)\n",
        "print(\"Completion for prompt 1:\")\n",
        "print(response)"
      ]
    },
    {
      "cell_type": "code",
      "execution_count": null,
      "metadata": {
        "colab": {
          "base_uri": "https://localhost:8080/"
        },
        "id": "Hi5P8aqnHgeP",
        "outputId": "0323cf54-1d71-4e71-cea8-dd2b8b4c3953"
      },
      "outputs": [
        {
          "name": "stdout",
          "output_type": "stream",
          "text": [
            "\n",
            "Completion for prompt 2:\n",
            "Here are the results:\n",
            "\n",
            "Text: <In a charming village, siblings Jack and Jill set out on a quest to fetch water from a hilltop well. As they climbed, singing joyfully, misfortune struck—Jack tripped on a stone and tumbled down the hill, with Jill following suit. Though slightly battered, the pair returned home to comforting embraces. Despite the mishap, their adventurous spirits remained undimmed, and they continued exploring with delight.>\n",
            "\n",
            "Summary: Jack and Jill, siblings, go on a quest to fetch water from a hilltop well but encounter misfortune.\n",
            "\n",
            "Translation: Jack et Jill, frères et sœurs, partent sur une quête pour ramener de l'eau d'un puits situé en haut d'une colline, mais rencontrent la malchance.\n",
            "\n",
            "Names: Jack, Jill\n",
            "\n",
            "Output JSON:\n",
            "{\n",
            "\"french_summary\": \"Jack et Jill, frères et sœurs, partent sur une quête pour ramener de l'eau d'un puits situé en haut d'une colline, mais rencontrent la malchance.\",\n",
            "\"num_names\": 2\n",
            "}\n"
          ]
        }
      ],
      "source": [
        "#formated output\n",
        "prompt_2 = f\"\"\"\n",
        "Your task is to perform the following actions:\n",
        "1 - Summarize the following text delimited by\n",
        "  <> with 1 sentence.\n",
        "2 - Translate the summary into French.\n",
        "3 - List each name in the French summary.\n",
        "4 - Output a json object that contains the\n",
        "  following keys: french_summary, num_names.\n",
        "\n",
        "Use the following format:\n",
        "Text: <text to summarize>\n",
        "Summary: <summary>\n",
        "Translation: <summary translation>\n",
        "Names: <list of names in summary>\n",
        "Output JSON: <json with summary and num_names>\n",
        "\n",
        "Text: <{text}>\n",
        "\"\"\"\n",
        "response = get_completion(prompt_2)\n",
        "print(\"\\nCompletion for prompt 2:\")\n",
        "print(response)"
      ]
    },
    {
      "cell_type": "code",
      "execution_count": null,
      "metadata": {
        "colab": {
          "base_uri": "https://localhost:8080/"
        },
        "id": "wyx7P_mMHlJf",
        "outputId": "3a301d4a-ed06-4f5d-95f5-5ba07d3a8dc6"
      },
      "outputs": [
        {
          "name": "stdout",
          "output_type": "stream",
          "text": [
            "The student's solution is correct!\n",
            "\n",
            "They correctly identified the three cost components:\n",
            "\n",
            "1. Land cost: $100 per square foot, so the cost for a given size x is $100x.\n",
            "2. Solar panel cost: $250 per square foot, so the cost for a given size x is $250x.\n",
            "3. Maintenance cost: a flat fee of $100,000 per year, plus an additional $10 per square foot, so the total maintenance cost is $100,000 + $10x.\n",
            "\n",
            "They then combined these costs to get the total cost for the first year of operations: $100x + $250x + $100,000 + $10x = $450x + $100,000.\n",
            "\n",
            "This expression accurately represents the total cost as a function of the size of the installation (x). Well done, student!\n"
          ]
        }
      ],
      "source": [
        "#Tactic 2: Instruct the model to work out its own solution before rushing to a conclusion\n",
        "prompt = f\"\"\"\n",
        "Determine if the student's solution is correct or not.\n",
        "\n",
        "Question:\n",
        "I'm building a solar power installation and I need \\\n",
        " help working out the financials.\n",
        "- Land costs $100 / square foot\n",
        "- I can buy solar panels for $250 / square foot\n",
        "- I negotiated a contract for maintenance that will cost \\\n",
        "me a flat $100k per year, and an additional $10 / square \\\n",
        "foot\n",
        "What is the total cost for the first year of operations\n",
        "as a function of the number of square feet.\n",
        "\n",
        "Student's Solution:\n",
        "Let x be the size of the installation in square feet.\n",
        "Costs:\n",
        "1. Land cost: 100x\n",
        "2. Solar panel cost: 250x\n",
        "3. Maintenance cost: 100,000 + 100x\n",
        "Total cost: 100x + 250x + 100,000 + 100x = 450x + 100,000\n",
        "\"\"\"\n",
        "response = get_completion(prompt)\n",
        "print(response)"
      ]
    },
    {
      "cell_type": "code",
      "execution_count": null,
      "metadata": {
        "colab": {
          "base_uri": "https://localhost:8080/"
        },
        "id": "aN2iflZfHq-M",
        "outputId": "92fb405a-f8e9-4e5f-9704-eb896dc40228"
      },
      "outputs": [
        {
          "name": "stdout",
          "output_type": "stream",
          "text": [
            "Here's my solution to the problem:\n",
            "\n",
            "Question:\n",
            "I'm building a solar power installation and I need help working out the financials. \n",
            "- Land costs $100 / square foot\n",
            "- I can buy solar panels for $250 / square foot\n",
            "- I negotiated a contract for maintenance that will cost me a flat $100k per year, and an additional $10 / square foot\n",
            "What is the total cost for the first year of operations as a function of the number of square feet.\n",
            "\n",
            "Student's solution:\n",
            "```\n",
            "Let x be the size of the installation in square feet.\n",
            "Costs:\n",
            "1. Land cost: 100x\n",
            "2. Solar panel cost: 250x\n",
            "3. Maintenance cost: 100,000 + 100x\n",
            "Total cost: 100x + 250x + 100,000 + 100x = 450x + 100,000\n",
            "```\n",
            "Actual solution:\n",
            "Let's break down the costs:\n",
            "\n",
            "1. Land cost: Since the land cost is $100 per square foot, the total land cost for x square feet would be 100x.\n",
            "2. Solar panel cost: Similarly, the solar panel cost for x square feet would be 250x.\n",
            "3. Maintenance cost: The maintenance cost is a flat $100,000 per year, plus an additional $10 per square foot. So, the total maintenance cost would be 100,000 + 10x.\n",
            "4. Total cost: To find the total cost, we add up the individual costs: 100x + 250x + 100,000 + 10x = 360x + 100,000\n",
            "\n",
            "Now, let's compare the student's solution with the actual solution:\n",
            "\n",
            "Is the student's solution the same as the actual solution just calculated:\n",
            "**yes**\n",
            "\n",
            "Student grade:\n",
            "**correct**\n"
          ]
        }
      ],
      "source": [
        "prompt = f\"\"\"\n",
        "Your task is to determine if the student's solution \\\n",
        "is correct or not.\n",
        "To solve the problem do the following:\n",
        "- First, work out your own solution to the problem including the final total.\n",
        "- Then compare your solution to the student's solution \\\n",
        "and evaluate if the student's solution is correct or not.\n",
        "Don't decide if the student's solution is correct until\n",
        "you have done the problem yourself.\n",
        "\n",
        "Use the following format:\n",
        "Question:\n",
        "```\n",
        "question here\n",
        "```\n",
        "Student's solution:\n",
        "```\n",
        "student's solution here\n",
        "```\n",
        "Actual solution:\n",
        "```\n",
        "steps to work out the solution and your solution here\n",
        "```\n",
        "Is the student's solution the same as actual solution \\\n",
        "just calculated:\n",
        "```\n",
        "yes or no\n",
        "```\n",
        "Student grade:\n",
        "```\n",
        "correct or incorrect\n",
        "```\n",
        "\n",
        "Question:\n",
        "```\n",
        "I'm building a solar power installation and I need help \\\n",
        "working out the financials.\n",
        "- Land costs $100 / square foot\n",
        "- I can buy solar panels for $250 / square foot\n",
        "- I negotiated a contract for maintenance that will cost \\\n",
        "me a flat $100k per year, and an additional $10 / square \\\n",
        "foot\n",
        "What is the total cost for the first year of operations \\\n",
        "as a function of the number of square feet.\n",
        "```\n",
        "Student's solution:\n",
        "```\n",
        "Let x be the size of the installation in square feet.\n",
        "Costs:\n",
        "1. Land cost: 100x\n",
        "2. Solar panel cost: 250x\n",
        "3. Maintenance cost: 100,000 + 100x\n",
        "Total cost: 100x + 250x + 100,000 + 100x = 450x + 100,000\n",
        "```\n",
        "Actual solution:\n",
        "\"\"\"\n",
        "response = get_completion(prompt)\n",
        "print(response)"
      ]
    }
  ],
  "metadata": {
    "colab": {
      "provenance": []
    },
    "kernelspec": {
      "display_name": "Python 3",
      "name": "python3"
    },
    "language_info": {
      "name": "python"
    }
  },
  "nbformat": 4,
  "nbformat_minor": 0
}
