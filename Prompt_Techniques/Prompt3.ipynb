{
  "cells": [
    {
      "cell_type": "markdown",
      "metadata": {
        "id": "PbDiEOBH_x78"
      },
      "source": [
        "# Summarizing"
      ]
    },
    {
      "cell_type": "code",
      "execution_count": 1,
      "metadata": {
        "colab": {
          "base_uri": "https://localhost:8080/"
        },
        "id": "Sod3Bqpy_vjM",
        "outputId": "c3023591-641b-43ca-9884-dd967d1a3d0c"
      },
      "outputs": [
        {
          "name": "stdout",
          "output_type": "stream",
          "text": [
            "Collecting groq\n",
            "  Downloading groq-0.31.0-py3-none-any.whl.metadata (16 kB)\n",
            "Requirement already satisfied: anyio<5,>=3.5.0 in /usr/local/lib/python3.12/dist-packages (from groq) (4.10.0)\n",
            "Requirement already satisfied: distro<2,>=1.7.0 in /usr/local/lib/python3.12/dist-packages (from groq) (1.9.0)\n",
            "Requirement already satisfied: httpx<1,>=0.23.0 in /usr/local/lib/python3.12/dist-packages (from groq) (0.28.1)\n",
            "Requirement already satisfied: pydantic<3,>=1.9.0 in /usr/local/lib/python3.12/dist-packages (from groq) (2.11.7)\n",
            "Requirement already satisfied: sniffio in /usr/local/lib/python3.12/dist-packages (from groq) (1.3.1)\n",
            "Requirement already satisfied: typing-extensions<5,>=4.10 in /usr/local/lib/python3.12/dist-packages (from groq) (4.15.0)\n",
            "Requirement already satisfied: idna>=2.8 in /usr/local/lib/python3.12/dist-packages (from anyio<5,>=3.5.0->groq) (3.10)\n",
            "Requirement already satisfied: certifi in /usr/local/lib/python3.12/dist-packages (from httpx<1,>=0.23.0->groq) (2025.8.3)\n",
            "Requirement already satisfied: httpcore==1.* in /usr/local/lib/python3.12/dist-packages (from httpx<1,>=0.23.0->groq) (1.0.9)\n",
            "Requirement already satisfied: h11>=0.16 in /usr/local/lib/python3.12/dist-packages (from httpcore==1.*->httpx<1,>=0.23.0->groq) (0.16.0)\n",
            "Requirement already satisfied: annotated-types>=0.6.0 in /usr/local/lib/python3.12/dist-packages (from pydantic<3,>=1.9.0->groq) (0.7.0)\n",
            "Requirement already satisfied: pydantic-core==2.33.2 in /usr/local/lib/python3.12/dist-packages (from pydantic<3,>=1.9.0->groq) (2.33.2)\n",
            "Requirement already satisfied: typing-inspection>=0.4.0 in /usr/local/lib/python3.12/dist-packages (from pydantic<3,>=1.9.0->groq) (0.4.1)\n",
            "Downloading groq-0.31.0-py3-none-any.whl (131 kB)\n",
            "\u001b[2K   \u001b[90m━━━━━━━━━━━━━━━━━━━━━━━━━━━━━━━━━━━━━━━━\u001b[0m \u001b[32m131.4/131.4 kB\u001b[0m \u001b[31m5.2 MB/s\u001b[0m eta \u001b[36m0:00:00\u001b[0m\n",
            "\u001b[?25hInstalling collected packages: groq\n",
            "Successfully installed groq-0.31.0\n"
          ]
        }
      ],
      "source": [
        "!pip install groq"
      ]
    },
    {
      "cell_type": "code",
      "execution_count": null,
      "metadata": {
        "id": "T0d_BgaZLF5C"
      },
      "outputs": [],
      "source": [
        "import os\n",
        "\n",
        "from groq import Groq\n",
        "client = Groq(\n",
        "    api_key=\"--\",\n",
        ")"
      ]
    },
    {
      "cell_type": "code",
      "execution_count": 3,
      "metadata": {
        "id": "79hMU-8kLIbs"
      },
      "outputs": [],
      "source": [
        "def get_completion(prompt, model=\"openai/gpt-oss-20b\"):\n",
        "    chat_completion = client.chat.completions.create(\n",
        "        messages=[\n",
        "            {\n",
        "                \"role\": \"user\",\n",
        "                \"content\": prompt,\n",
        "            }\n",
        "        ],\n",
        "        model=model,\n",
        "        temperature=0,\n",
        "    )\n",
        "    return chat_completion.choices[0].message.content"
      ]
    },
    {
      "cell_type": "code",
      "execution_count": 4,
      "metadata": {
        "colab": {
          "base_uri": "https://localhost:8080/"
        },
        "id": "Dg-WjHxyLisO",
        "outputId": "d3064f02-cd78-4ea1-88b0-acc16678f711"
      },
      "outputs": [
        {
          "name": "stderr",
          "output_type": "stream",
          "text": [
            "<>:4: SyntaxWarning: invalid escape sequence '\\ '\n",
            "<>:4: SyntaxWarning: invalid escape sequence '\\ '\n",
            "/tmp/ipython-input-2750118305.py:4: SyntaxWarning: invalid escape sequence '\\ '\n",
            "  who loves it and takes it everywhere. It's soft and \\\n"
          ]
        }
      ],
      "source": [
        "# Text to summarize\n",
        "prod_review = \"\"\"\n",
        "Got this panda plush toy for my daughter's birthday, \\\n",
        "who loves it and takes it everywhere. It's soft and \\\n",
        "super cute, and its face has a friendly look. It's \\\n",
        "a bit small for what I paid though. I think there \\\n",
        "might be other options that are bigger for the \\\n",
        "same price. It arrived a day earlier than expected, \\\n",
        "so I got to play with it myself before I gave it \\\n",
        "to her.\n",
        "\"\"\""
      ]
    },
    {
      "cell_type": "code",
      "execution_count": 5,
      "metadata": {
        "colab": {
          "base_uri": "https://localhost:8080/"
        },
        "id": "7fQUKqllNpxb",
        "outputId": "e5fc8dcf-d034-489e-e2dd-51287046e550"
      },
      "outputs": [
        {
          "name": "stdout",
          "output_type": "stream",
          "text": [
            "Panda plush is soft, cute, and adored by daughter, but small for its price; it arrived early, letting the owner play with it first.\n"
          ]
        }
      ],
      "source": [
        "# Summarize with a word/sentence/character limit\n",
        "\n",
        "prompt = f\"\"\"\n",
        "Your task is to generate a short summary of a product \\\n",
        "review from an ecommerce site.\n",
        "\n",
        "Summarize the review below, delimited by triple\n",
        "backticks, in at most 30 words.\n",
        "\n",
        "Review: ```{prod_review}```\n",
        "\"\"\"\n",
        "\n",
        "response = get_completion(prompt)\n",
        "print(response)\n",
        "\n"
      ]
    },
    {
      "cell_type": "code",
      "execution_count": 6,
      "metadata": {
        "colab": {
          "base_uri": "https://localhost:8080/"
        },
        "id": "x-12XGy1Nzc_",
        "outputId": "be3b2e0c-eb13-47f8-b9e1-d0dfae8cd953"
      },
      "outputs": [
        {
          "name": "stdout",
          "output_type": "stream",
          "text": [
            "Product arrived one day early, letting the buyer play with it before gifting. Shipping was prompt and exceeded expectations.\n"
          ]
        }
      ],
      "source": [
        "#Summarize with a focus on shipping and delivery\n",
        "\n",
        "prompt = f\"\"\"\n",
        "Your task is to generate a short summary of a product \\\n",
        "review from an ecommerce site to give feedback to the \\\n",
        "Shipping deparmtment.\n",
        "\n",
        "Summarize the review below, delimited by triple\n",
        "backticks, in at most 30 words, and focusing on any aspects \\\n",
        "that mention shipping and delivery of the product.\n",
        "\n",
        "Review: ```{prod_review}```\n",
        "\"\"\"\n",
        "\n",
        "response = get_completion(prompt)\n",
        "print(response)\n"
      ]
    },
    {
      "cell_type": "code",
      "execution_count": 7,
      "metadata": {
        "colab": {
          "base_uri": "https://localhost:8080/"
        },
        "id": "FjB1PRa-N-2A",
        "outputId": "25721632-1782-48dc-ffc9-198c2ad88f47"
      },
      "outputs": [
        {
          "name": "stdout",
          "output_type": "stream",
          "text": [
            "Cute, soft panda plush loved by daughter, but feels undersized for price; larger alternatives may offer better value.\n"
          ]
        }
      ],
      "source": [
        "# Summarize with a focus on price and value\n",
        "prompt = f\"\"\"\n",
        "Your task is to generate a short summary of a product \\\n",
        "review from an ecommerce site to give feedback to the \\\n",
        "pricing deparmtment, responsible for determining the \\\n",
        "price of the product.\n",
        "\n",
        "Summarize the review below, delimited by triple\n",
        "backticks, in at most 30 words, and focusing on any aspects \\\n",
        "that are relevant to the price and perceived value.\n",
        "\n",
        "Review: ```{prod_review}```\n",
        "\"\"\"\n",
        "\n",
        "response = get_completion(prompt)\n",
        "print(response)\n"
      ]
    },
    {
      "cell_type": "code",
      "execution_count": 8,
      "metadata": {
        "colab": {
          "base_uri": "https://localhost:8080/"
        },
        "id": "0OqolMYFOmK0",
        "outputId": "e5f7b046-9208-4f3a-f222-e0b20513b1df"
      },
      "outputs": [
        {
          "name": "stderr",
          "output_type": "stream",
          "text": [
            "<>:13: SyntaxWarning: invalid escape sequence '\\ '\n",
            "<>:13: SyntaxWarning: invalid escape sequence '\\ '\n",
            "/tmp/ipython-input-1821798183.py:13: SyntaxWarning: invalid escape sequence '\\ '\n",
            "  \n"
          ]
        },
        {
          "name": "stdout",
          "output_type": "stream",
          "text": [
            "Delivery was prompt, arriving one day earlier than expected, enabling early play before gifting.\n"
          ]
        }
      ],
      "source": [
        "# Try \"extract\" instead of \"summarize\"\n",
        "prompt = f\"\"\"\n",
        "Your task is to extract relevant information from \\\n",
        "a product review from an ecommerce site to give \\\n",
        "feedback to the Shipping department.\n",
        "\n",
        "From the review below, delimited by triple quotes \\\n",
        "extract the information relevant to shipping and \\\n",
        "delivery. Limit to 30 words.\n",
        "\n",
        "Review: ```{prod_review}```\n",
        "\"\"\"\n",
        "\n",
        "response = get_completion(prompt)\n",
        "print(response)\n"
      ]
    },
    {
      "cell_type": "markdown",
      "metadata": {
        "id": "ed-M0ekfPKVM"
      },
      "source": [
        "Summarize multiple product reviews"
      ]
    },
    {
      "cell_type": "code",
      "execution_count": 10,
      "metadata": {
        "id": "BT5nhu21O1oy"
      },
      "outputs": [],
      "source": [
        "# review for a wireless keyboard\n",
        "review_1 = \"\"\"\n",
        "I needed a new keyboard for my home office, and this \\\n",
        "wireless one turned out to be a great choice. The keys \\\n",
        "have a soft touch and don’t make much noise, which is \\\n",
        "perfect for late-night work sessions. The battery life \\\n",
        "has been excellent so far — I’ve used it for almost a \\\n",
        "month without needing to recharge. It paired instantly \\\n",
        "with my laptop and even works with my tablet. The only \\\n",
        "thing I wish it had is a backlight, since I sometimes \\\n",
        "work in dim light. Overall though, great value for the \\\n",
        "price and very convenient.\n",
        "\"\"\"\n",
        "\n",
        "# review for a cordless vacuum cleaner\n",
        "review_2 = \"\"\"\n",
        "I was looking for something lightweight and easy to use \\\n",
        "around the house, and this cordless vacuum cleaner has \\\n",
        "been awesome. It came within 3 days, well-packaged, and \\\n",
        "was easy to assemble. The suction is surprisingly strong \\\n",
        "for such a compact design. I did have an issue with one \\\n",
        "of the attachments not fitting properly, but their support \\\n",
        "team quickly sent me a replacement at no extra cost. \\\n",
        "Battery lasts about 40 minutes per charge, which is plenty \\\n",
        "for quick clean-ups. It’s not as powerful as a full-sized \\\n",
        "vacuum, but for daily use, it’s perfect.\n",
        "\"\"\"\n",
        "\n",
        "# review for a smartwatch\n",
        "review_3 = \"\"\"\n",
        "Decided to get a smartwatch mainly for fitness tracking, \\\n",
        "and I’ve been pleasantly surprised. The step counter and \\\n",
        "heart rate monitor seem accurate, and I like that it \\\n",
        "reminds me to stand up when I’ve been sitting too long. \\\n",
        "Battery life is decent — I get about 5 days on a single \\\n",
        "charge. The screen is bright and easy to read outdoors, \\\n",
        "though the strap feels a little cheap compared to higher- \\\n",
        "end brands. I wish it had more customization for workout \\\n",
        "modes, but overall for the price, it’s a great way to get \\\n",
        "into wearable tech without breaking the bank.\n",
        "\"\"\"\n",
        "\n",
        "# review for an air fryer\n",
        "review_4 = \"\"\"\n",
        "Got this air fryer on sale, and it has quickly become one \\\n",
        "of my favorite kitchen gadgets. It preheats quickly and \\\n",
        "cooks food evenly without needing much oil. I’ve used it \\\n",
        "for fries, chicken, and even reheating leftovers, and \\\n",
        "everything comes out crisp. The basket is a bit smaller \\\n",
        "than I expected, so it’s better for 1–2 people rather than \\\n",
        "big family meals. Cleaning is simple since the basket is \\\n",
        "non-stick and dishwasher safe. After a few weeks of use, \\\n",
        "it still works perfectly. Definitely worth it if you’re \\\n",
        "looking for a healthier alternative to traditional frying.\n",
        "\"\"\"\n",
        "\n",
        "\n",
        "reviews = [review_1, review_2, review_3, review_4]\n",
        "\n"
      ]
    },
    {
      "cell_type": "code",
      "execution_count": 11,
      "metadata": {
        "colab": {
          "base_uri": "https://localhost:8080/"
        },
        "id": "H_aopxU9PN25",
        "outputId": "70cc2611-b86d-4a23-d3f1-a7ade0013d96"
      },
      "outputs": [
        {
          "name": "stderr",
          "output_type": "stream",
          "text": [
            "<>:11: SyntaxWarning: invalid escape sequence '\\ '\n",
            "<>:11: SyntaxWarning: invalid escape sequence '\\ '\n",
            "/tmp/ipython-input-3928838135.py:11: SyntaxWarning: invalid escape sequence '\\ '\n",
            "  \n"
          ]
        },
        {
          "name": "stdout",
          "output_type": "stream",
          "text": [
            "0 Wireless keyboard offers quiet, soft keys, long battery life, easy pairing; lacks backlight but great value. \n",
            "\n",
            "1 Lightweight cordless vacuum with strong suction, quick delivery, easy assembly, good battery; minor attachment issue resolved by support. \n",
            "\n",
            "2 Smartwatch offers accurate fitness tracking, good battery, bright screen, but cheap strap and limited workout customization; great value. \n",
            "\n",
            "3 Fast preheat, even cooking, crisp results, small basket, easy cleaning, durable, healthy alternative—great value. \n",
            "\n"
          ]
        }
      ],
      "source": [
        "for i in range(len(reviews)):\n",
        "    prompt = f\"\"\"\n",
        "    Your task is to generate a short summary of a product \\\n",
        "    review from an ecommerce site.\n",
        "\n",
        "    Summarize the review below, delimited by triple \\\n",
        "    backticks in at most 20 words.\n",
        "\n",
        "    Review: ```{reviews[i]}```\n",
        "    \"\"\"\n",
        "\n",
        "    response = get_completion(prompt)\n",
        "    print(i, response, \"\\n\")\n"
      ]
    },
    {
      "cell_type": "code",
      "execution_count": null,
      "metadata": {
        "id": "suer_N-RPynY"
      },
      "outputs": [],
      "source": []
    }
  ],
  "metadata": {
    "colab": {
      "provenance": []
    },
    "kernelspec": {
      "display_name": "Python 3",
      "name": "python3"
    },
    "language_info": {
      "name": "python"
    }
  },
  "nbformat": 4,
  "nbformat_minor": 0
}
